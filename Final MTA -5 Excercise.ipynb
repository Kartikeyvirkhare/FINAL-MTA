{
 "cells": [
  {
   "cell_type": "code",
   "execution_count": 1,
   "id": "9e471c87",
   "metadata": {},
   "outputs": [
    {
     "name": "stdout",
     "output_type": "stream",
     "text": [
      "[4, 3, 7, 8, 1, 9, 0]\n"
     ]
    }
   ],
   "source": [
    "#1 Question\n",
    "import random\n",
    "print(random.sample(range(10),7))"
   ]
  },
  {
   "cell_type": "code",
   "execution_count": 5,
   "id": "60769262",
   "metadata": {},
   "outputs": [
    {
     "data": {
      "text/plain": [
       "float"
      ]
     },
     "execution_count": 5,
     "metadata": {},
     "output_type": "execute_result"
    }
   ],
   "source": [
    "#2Question\n",
    "weight=62.4\n",
    "zip='80098'\n",
    "value=+23E4\n",
    "type(weight)\n"
   ]
  },
  {
   "cell_type": "code",
   "execution_count": 6,
   "id": "bf6eb930",
   "metadata": {},
   "outputs": [
    {
     "data": {
      "text/plain": [
       "str"
      ]
     },
     "execution_count": 6,
     "metadata": {},
     "output_type": "execute_result"
    }
   ],
   "source": [
    "type(zip)"
   ]
  },
  {
   "cell_type": "code",
   "execution_count": 7,
   "id": "5334d2df",
   "metadata": {},
   "outputs": [
    {
     "data": {
      "text/plain": [
       "float"
      ]
     },
     "execution_count": 7,
     "metadata": {},
     "output_type": "execute_result"
    }
   ],
   "source": [
    "type(value)"
   ]
  },
  {
   "cell_type": "code",
   "execution_count": 8,
   "id": "ec56e0c2",
   "metadata": {},
   "outputs": [
    {
     "name": "stdout",
     "output_type": "stream",
     "text": [
      "How old were you at the time of joining?30\n",
      "How old are you today?32\n",
      "Congratulatuons on2Years of Service!\n"
     ]
    }
   ],
   "source": [
    "#3 Question\n",
    "start=input('How old were you at the time of joining?')\n",
    "end=input('How old are you today?')\n",
    "print('Congratulatuons on'+str(int(end)-int(start))+'Years of Service!')"
   ]
  },
  {
   "cell_type": "code",
   "execution_count": 9,
   "id": "2ca142e0",
   "metadata": {},
   "outputs": [],
   "source": [
    "#4 Question\n",
    "#employees[:-3]=correct option"
   ]
  },
  {
   "cell_type": "code",
   "execution_count": 10,
   "id": "85f82c69",
   "metadata": {},
   "outputs": [],
   "source": [
    "#5 Question same Question\n",
    "#solved in QA2 Assignment\n"
   ]
  },
  {
   "cell_type": "code",
   "execution_count": 11,
   "id": "8dfd2e12",
   "metadata": {},
   "outputs": [
    {
     "name": "stdout",
     "output_type": "stream",
     "text": [
      "Enter Your FullName:\n",
      "Kartikey Virkhare \n",
      "Kartikey Virkhare \n"
     ]
    }
   ],
   "source": [
    "#6 Question\n",
    "print('Enter Your FullName:')\n",
    "fullname=input()\n",
    "print(fullname)"
   ]
  },
  {
   "cell_type": "code",
   "execution_count": 13,
   "id": "2daf6b7d",
   "metadata": {},
   "outputs": [
    {
     "name": "stdout",
     "output_type": "stream",
     "text": [
      "How many items you required?7\n"
     ]
    }
   ],
   "source": [
    "#7 Question\n",
    "items=int(float(input('How many items you required?')))"
   ]
  },
  {
   "cell_type": "code",
   "execution_count": null,
   "id": "13a478f2",
   "metadata": {},
   "outputs": [
    {
     "name": "stdout",
     "output_type": "stream",
     "text": [
      "Enter Next Rating(1-5),-1 for done12345\n"
     ]
    }
   ],
   "source": [
    "#8 Qiuestion\n",
    "sum=count=done=0\n",
    "average=0.0\n",
    "while(done != -1):\n",
    "    rating=float(input('Enter Next Rating(1-5),-1 for done'))\n",
    "    if rating == -1:\n",
    "            break\n",
    "    sum+=rating\n",
    "    count+=1\n",
    "average=float(sum/count)\n",
    "print('The average star rating for the new coffee is:{:.2f}'.format(average))"
   ]
  },
  {
   "cell_type": "markdown",
   "id": "c00dfea5",
   "metadata": {},
   "source": [
    " "
   ]
  },
  {
   "cell_type": "code",
   "execution_count": null,
   "id": "328ff8d2",
   "metadata": {},
   "outputs": [
    {
     "name": "stdout",
     "output_type": "stream",
     "text": [
      "Enter Your Name:Kartikey\n",
      "Enter your scores:(-1 to end)3\n",
      "Enter your scores:(-1 to end)3\n",
      "Enter your scores:(-1 to end)3\n"
     ]
    }
   ],
   "source": [
    "#9 Question\n",
    "name=input('Enter Your Name:')\n",
    "score=0\n",
    "count=0\n",
    "sum=0\n",
    "while(score != -1):\n",
    "    score=int(input('Enter your scores:(-1 to end)'))\n",
    "    if score==-1:\n",
    "            break\n",
    "    sum+=score\n",
    "    count+=1\n",
    "average_score=sum/count\n",
    "print('%-20s,Your average is :%4.1f'%(name,average_score))"
   ]
  },
  {
   "cell_type": "code",
   "execution_count": 2,
   "id": "cc9cf027",
   "metadata": {},
   "outputs": [
    {
     "name": "stdout",
     "output_type": "stream",
     "text": [
      "0\n",
      "1\n",
      "2\n",
      "3\n",
      "4\n",
      "5\n",
      "6\n"
     ]
    }
   ],
   "source": [
    "#10 question\n",
    "n=[0,1,2,3,4,5,6,7,8,9]\n",
    "i=0\n",
    "while(i<10):\n",
    "    print(n[i])\n",
    "    if n[i]==6:\n",
    "        break\n",
    "    else:\n",
    "        i+=1"
   ]
  },
  {
   "cell_type": "code",
   "execution_count": 2,
   "id": "14f4e791",
   "metadata": {},
   "outputs": [],
   "source": [
    "#12 Question answer\n",
    "def root(r,s):\n",
    "    if r>=0:\n",
    "        result=r**(1/s)\n",
    "    elif r%2==0:\n",
    "        result=\"Result is an imaginary number\"\n",
    "    else:\n",
    "        result=-(-r)**(1/s)\n",
    "    return result"
   ]
  },
  {
   "cell_type": "code",
   "execution_count": 3,
   "id": "fc4c404c",
   "metadata": {},
   "outputs": [
    {
     "name": "stdout",
     "output_type": "stream",
     "text": [
      "0\n",
      "1\n",
      "2\n",
      "3\n",
      "4\n",
      "5\n",
      "6\n"
     ]
    }
   ],
   "source": [
    "#14 Question\n",
    "products=[0,1,2,3,4,5,6,7,8,9]\n",
    "index=0\n",
    "while index<len(products):\n",
    "    print(products[index])\n",
    "    if products[index]==6:\n",
    "        break\n",
    "    else:\n",
    "        index+=1\n"
   ]
  },
  {
   "cell_type": "code",
   "execution_count": 3,
   "id": "189f9628",
   "metadata": {},
   "outputs": [
    {
     "name": "stdout",
     "output_type": "stream",
     "text": [
      "2\n",
      "3\n",
      "5\n",
      "7\n",
      "11\n",
      "13\n",
      "17\n",
      "19\n",
      "23\n",
      "29\n",
      "31\n",
      "37\n",
      "41\n",
      "43\n",
      "47\n",
      "53\n",
      "59\n",
      "61\n",
      "67\n",
      "71\n",
      "73\n",
      "79\n",
      "83\n",
      "89\n",
      "97\n",
      "101\n",
      "103\n",
      "107\n",
      "109\n",
      "113\n",
      "127\n",
      "131\n",
      "137\n",
      "139\n",
      "149\n",
      "151\n",
      "157\n",
      "163\n",
      "167\n",
      "173\n",
      "179\n",
      "181\n",
      "191\n",
      "193\n",
      "197\n",
      "199\n"
     ]
    }
   ],
   "source": [
    "#15 question\n",
    "p=2\n",
    "while p<=200:\n",
    "    is_prime=True\n",
    "    for i in range(2,p):\n",
    "        if p % i==0:\n",
    "            is_prime=False\n",
    "            break\n",
    "    if is_prime==True:\n",
    "        print(p)\n",
    "    p=p+1\n",
    "            "
   ]
  },
  {
   "cell_type": "code",
   "execution_count": 4,
   "id": "fb4a4309",
   "metadata": {},
   "outputs": [],
   "source": [
    "#16 question \n",
    "#Invalid  syantax is the correct option"
   ]
  },
  {
   "cell_type": "code",
   "execution_count": 14,
   "id": "d19b1fab",
   "metadata": {},
   "outputs": [
    {
     "name": "stdout",
     "output_type": "stream",
     "text": [
      "Was Book returned befor 9 pm? y or n:y\n",
      "How many days book rented?5\n",
      "What day the Book rented?Sunday\n"
     ]
    },
    {
     "ename": "NameError",
     "evalue": "name 'ontime' is not defined",
     "output_type": "error",
     "traceback": [
      "\u001b[0;31m---------------------------------------------------------------------------\u001b[0m",
      "\u001b[0;31mNameError\u001b[0m                                 Traceback (most recent call last)",
      "Input \u001b[0;32mIn [14]\u001b[0m, in \u001b[0;36m<cell line: 7>\u001b[0;34m()\u001b[0m\n\u001b[1;32m      4\u001b[0m days_rented\u001b[38;5;241m=\u001b[39m\u001b[38;5;28minput\u001b[39m(\u001b[38;5;124m'\u001b[39m\u001b[38;5;124mWhat day the Book rented?\u001b[39m\u001b[38;5;124m'\u001b[39m)\u001b[38;5;241m.\u001b[39mcapitalize()\n\u001b[1;32m      5\u001b[0m cost_per_day\u001b[38;5;241m=\u001b[39m\u001b[38;5;241m3.00\u001b[39m\n\u001b[0;32m----> 7\u001b[0m \u001b[38;5;28;01mif\u001b[39;00m \u001b[43montime\u001b[49m \u001b[38;5;241m==\u001b[39m \u001b[38;5;124m'\u001b[39m\u001b[38;5;124mn\u001b[39m\u001b[38;5;124m'\u001b[39m:\n\u001b[1;32m      8\u001b[0m     days_rented\u001b[38;5;241m=\u001b[39mdays_rented\u001b[38;5;241m+\u001b[39m\u001b[38;5;241m1\u001b[39m\n\u001b[1;32m      9\u001b[0m \u001b[38;5;28;01mif\u001b[39;00m day_rented\u001b[38;5;241m==\u001b[39m\u001b[38;5;124m'\u001b[39m\u001b[38;5;124mSunday\u001b[39m\u001b[38;5;124m'\u001b[39m:\n",
      "\u001b[0;31mNameError\u001b[0m: name 'ontime' is not defined"
     ]
    }
   ],
   "source": [
    "#17 Question\n",
    "onetime=input('Was Book returned befor 9 pm? y or n:').lower()\n",
    "days_rented=int(input('How many days book rented?'))\n",
    "days_rented=input('What day the Book rented?').capitalize()\n",
    "cost_per_day=3.00\n",
    "\n",
    "if ontime == 'n':\n",
    "    days_rented=days_rented+1\n",
    "if day_rented=='Sunday':\n",
    "    total=(days_rented*cost_per_day)*0.5\n",
    "elif day_rented=='Saturday':\n",
    "    total=(days_rented*cost_per_day)*0.7\n",
    "else:\n",
    "    total=(days_rented*cost_per_day)\n",
    "print('The Cost of Book Rental is:$',total)"
   ]
  },
  {
   "cell_type": "code",
   "execution_count": 15,
   "id": "3c861738",
   "metadata": {},
   "outputs": [],
   "source": [
    "#18 Question\n",
    "def update_score(score,value):\n",
    "    new_score=score+value\n",
    "    return new_score"
   ]
  },
  {
   "cell_type": "code",
   "execution_count": 18,
   "id": "e299d224",
   "metadata": {},
   "outputs": [
    {
     "name": "stdout",
     "output_type": "stream",
     "text": [
      "How many miles did you bike this week:1\n",
      "Enter Your Name:Kartikey\n",
      "Kartikey You burned about 44 calories\n"
     ]
    }
   ],
   "source": [
    "#19 Question\n",
    "def get_name():\n",
    "    name=input('Enter Your Name:')\n",
    "    return name\n",
    "def calc_calories(miles,calories_per_mile):\n",
    "    calories=miles*calories_per_mile\n",
    "    return calories\n",
    "distance=int(input('How many miles did you bike this week:'))\n",
    "burn_rate=44\n",
    "biker=get_name()\n",
    "calories_burned=calc_calories(distance,burn_rate)\n",
    "print(biker,\"You burned about\",calories_burned,\"calories\")"
   ]
  },
  {
   "cell_type": "code",
   "execution_count": 4,
   "id": "48fa4377",
   "metadata": {},
   "outputs": [],
   "source": [
    "#20 Question\n",
    "def get_rating(age):\n",
    "    if age>=18:\n",
    "        rating=\"A\"\n",
    "    elif age>=13:\n",
    "        rating=\"T\"\n",
    "    else:\n",
    "        rating=\"C\"\n",
    "    return rating"
   ]
  },
  {
   "cell_type": "code",
   "execution_count": 9,
   "id": "2bbf30b3",
   "metadata": {},
   "outputs": [
    {
     "name": "stdout",
     "output_type": "stream",
     "text": [
      "End of file\n"
     ]
    }
   ],
   "source": [
    "#23\n",
    "inventory=open('inventory.txt','r')\n",
    "eof=False\n",
    "while eof == False:\n",
    "    line=inventory.readline()\n",
    "    if line!= '':\n",
    "        if line!= '\\n':\n",
    "            print(line,end='')\n",
    "    else:\n",
    "        print('End of file')\n",
    "        eof=True\n",
    "        inventory.close()"
   ]
  },
  {
   "cell_type": "code",
   "execution_count": 10,
   "id": "b9f0f77f",
   "metadata": {},
   "outputs": [],
   "source": [
    "#25\n",
    "import os\n",
    "def read_file(filename):\n",
    "    line=None\n",
    "    if os.path.isfile(file_name):\n",
    "        data=open(filename,'r')\n",
    "    while line!= '':\n",
    "        line=data.readline()\n",
    "        print(line)\n",
    "#last 3 lines inside function have identation problem"
   ]
  },
  {
   "cell_type": "code",
   "execution_count": 11,
   "id": "26a56882",
   "metadata": {},
   "outputs": [
    {
     "name": "stdout",
     "output_type": "stream",
     "text": [
      "False\n",
      "False\n",
      "True\n",
      "True\n"
     ]
    }
   ],
   "source": [
    "#30\n",
    "n=[10,20,30,40,50]\n",
    "a=['a','b','c','d','e']\n",
    "print(n is a)\n",
    "print(n==a)\n",
    "n = a\n",
    "print(n is a)\n",
    "print(n==a)"
   ]
  },
  {
   "cell_type": "code",
   "execution_count": 12,
   "id": "65e4bc08",
   "metadata": {},
   "outputs": [
    {
     "name": "stdout",
     "output_type": "stream",
     "text": [
      "3.0\n"
     ]
    }
   ],
   "source": [
    "#31 Question\n",
    "a=15\n",
    "b=5\n",
    "print(a/b)"
   ]
  },
  {
   "cell_type": "code",
   "execution_count": 2,
   "id": "8b4444c9",
   "metadata": {},
   "outputs": [
    {
     "data": {
      "text/plain": [
       "17"
      ]
     },
     "execution_count": 2,
     "metadata": {},
     "output_type": "execute_result"
    }
   ],
   "source": [
    "#33 Question\n",
    "(2*(3+4)**2-(3**3)*3)"
   ]
  },
  {
   "cell_type": "code",
   "execution_count": 4,
   "id": "d1447107",
   "metadata": {},
   "outputs": [],
   "source": [
    "#34 Question\n",
    "a1='10'\n",
    "b1=3\n",
    "c1=a1*b1\n",
    "\n",
    "a2=10\n",
    "b2=3\n",
    "c2=a2/b2\n",
    "\n",
    "a3=2.6\n",
    "b3=1\n",
    "c3=a3/b3"
   ]
  },
  {
   "cell_type": "code",
   "execution_count": 2,
   "id": "4fc66889",
   "metadata": {},
   "outputs": [
    {
     "data": {
      "text/plain": [
       "str"
      ]
     },
     "execution_count": 2,
     "metadata": {},
     "output_type": "execute_result"
    }
   ],
   "source": [
    "type(c1)"
   ]
  },
  {
   "cell_type": "code",
   "execution_count": 5,
   "id": "8ce8f606",
   "metadata": {},
   "outputs": [
    {
     "data": {
      "text/plain": [
       "float"
      ]
     },
     "execution_count": 5,
     "metadata": {},
     "output_type": "execute_result"
    }
   ],
   "source": [
    "type(c2)"
   ]
  },
  {
   "cell_type": "code",
   "execution_count": 6,
   "id": "9f826d10",
   "metadata": {},
   "outputs": [
    {
     "data": {
      "text/plain": [
       "float"
      ]
     },
     "execution_count": 6,
     "metadata": {},
     "output_type": "execute_result"
    }
   ],
   "source": [
    "type(c3)"
   ]
  },
  {
   "cell_type": "code",
   "execution_count": 8,
   "id": "93ca908c",
   "metadata": {},
   "outputs": [
    {
     "name": "stdout",
     "output_type": "stream",
     "text": [
      "try\n",
      "except\n",
      "finally\n"
     ]
    }
   ],
   "source": [
    "#40 Question\n",
    "try:\n",
    "    print('try')\n",
    "    print(10/0)\n",
    "except:\n",
    "    print('except')\n",
    "else:\n",
    "    print('else')\n",
    "finally:\n",
    "    print('finally')"
   ]
  },
  {
   "cell_type": "code",
   "execution_count": null,
   "id": "c5aaec28",
   "metadata": {},
   "outputs": [],
   "source": []
  }
 ],
 "metadata": {
  "kernelspec": {
   "display_name": "Python 3 (ipykernel)",
   "language": "python",
   "name": "python3"
  },
  "language_info": {
   "codemirror_mode": {
    "name": "ipython",
    "version": 3
   },
   "file_extension": ".py",
   "mimetype": "text/x-python",
   "name": "python",
   "nbconvert_exporter": "python",
   "pygments_lexer": "ipython3",
   "version": "3.9.12"
  }
 },
 "nbformat": 4,
 "nbformat_minor": 5
}
