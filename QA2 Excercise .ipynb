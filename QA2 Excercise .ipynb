{
 "cells": [
  {
   "cell_type": "code",
   "execution_count": 2,
   "id": "3cda43dc",
   "metadata": {},
   "outputs": [],
   "source": [
    "#1 question"
   ]
  },
  {
   "cell_type": "code",
   "execution_count": 2,
   "id": "8ceca46f",
   "metadata": {},
   "outputs": [
    {
     "data": {
      "text/plain": [
       "4"
      ]
     },
     "execution_count": 2,
     "metadata": {},
     "output_type": "execute_result"
    }
   ],
   "source": [
    "7%2+3"
   ]
  },
  {
   "cell_type": "code",
   "execution_count": 3,
   "id": "a1d94931",
   "metadata": {},
   "outputs": [],
   "source": [
    "#2 question"
   ]
  },
  {
   "cell_type": "code",
   "execution_count": 1,
   "id": "90b1a523",
   "metadata": {},
   "outputs": [
    {
     "ename": "ValueError",
     "evalue": "could not convert string to float: '/Users/kartikeyvirkhare/Library/Jupyter/runtime/kernel-12fc9415-d1ec-473a-845e-ecbfea466cc5.json'",
     "output_type": "error",
     "traceback": [
      "\u001b[0;31m---------------------------------------------------------------------------\u001b[0m",
      "\u001b[0;31mValueError\u001b[0m                                Traceback (most recent call last)",
      "Input \u001b[0;32mIn [1]\u001b[0m, in \u001b[0;36m<cell line: 3>\u001b[0;34m()\u001b[0m\n\u001b[1;32m      2\u001b[0m \u001b[38;5;28msum\u001b[39m\u001b[38;5;241m=\u001b[39m\u001b[38;5;241m0\u001b[39m\n\u001b[1;32m      3\u001b[0m \u001b[38;5;28;01mfor\u001b[39;00m i \u001b[38;5;129;01min\u001b[39;00m \u001b[38;5;28mrange\u001b[39m(\u001b[38;5;241m2\u001b[39m,\u001b[38;5;28mlen\u001b[39m(argv)):\n\u001b[0;32m----> 4\u001b[0m      \u001b[38;5;28msum\u001b[39m \u001b[38;5;241m+\u001b[39m\u001b[38;5;241m=\u001b[39m\u001b[38;5;28;43mfloat\u001b[39;49m\u001b[43m(\u001b[49m\u001b[43margv\u001b[49m\u001b[43m[\u001b[49m\u001b[43mi\u001b[49m\u001b[43m]\u001b[49m\u001b[43m)\u001b[49m\n\u001b[1;32m      5\u001b[0m \u001b[38;5;28mprint\u001b[39m(\u001b[38;5;124m\"\u001b[39m\u001b[38;5;124mThe Average for \u001b[39m\u001b[38;5;132;01m{0}\u001b[39;00m\u001b[38;5;124m is \u001b[39m\u001b[38;5;132;01m{1:.2f}\u001b[39;00m\u001b[38;5;124m\"\u001b[39m\u001b[38;5;241m.\u001b[39mformat(argv[\u001b[38;5;241m1\u001b[39m],\u001b[38;5;28msum\u001b[39m\u001b[38;5;241m/\u001b[39m(\u001b[38;5;28mlen\u001b[39m(argv)\u001b[38;5;241m-\u001b[39m\u001b[38;5;241m2\u001b[39m)))\n",
      "\u001b[0;31mValueError\u001b[0m: could not convert string to float: '/Users/kartikeyvirkhare/Library/Jupyter/runtime/kernel-12fc9415-d1ec-473a-845e-ecbfea466cc5.json'"
     ]
    }
   ],
   "source": [
    "from sys import argv\n",
    "sum=0\n",
    "for i in range(2,len(argv)):\n",
    "     sum +=float(argv[i])\n",
    "print(\"The Average for {0} is {1:.2f}\".format(argv[1],sum/(len(argv)-2)))"
   ]
  },
  {
   "cell_type": "code",
   "execution_count": 4,
   "id": "08fdc251",
   "metadata": {},
   "outputs": [],
   "source": [
    "#3rd question"
   ]
  },
  {
   "cell_type": "code",
   "execution_count": 5,
   "id": "90cd3105",
   "metadata": {},
   "outputs": [],
   "source": [
    "x=3\n",
    "x+=1\n",
    "x**=2"
   ]
  },
  {
   "cell_type": "code",
   "execution_count": 6,
   "id": "4783c729",
   "metadata": {},
   "outputs": [
    {
     "name": "stdout",
     "output_type": "stream",
     "text": [
      "16\n"
     ]
    }
   ],
   "source": [
    "print(x)"
   ]
  },
  {
   "cell_type": "code",
   "execution_count": 7,
   "id": "85d487c6",
   "metadata": {},
   "outputs": [],
   "source": [
    "#4 question"
   ]
  },
  {
   "cell_type": "code",
   "execution_count": 8,
   "id": "efca6a05",
   "metadata": {},
   "outputs": [
    {
     "name": "stdout",
     "output_type": "stream",
     "text": [
      "Enter some value:10\n",
      "<class 'str'>\n"
     ]
    }
   ],
   "source": [
    "print(type(input('Enter some value:')))"
   ]
  },
  {
   "cell_type": "code",
   "execution_count": 9,
   "id": "0d075173",
   "metadata": {},
   "outputs": [
    {
     "name": "stdout",
     "output_type": "stream",
     "text": [
      "Enter some value:10.0\n",
      "<class 'str'>\n"
     ]
    }
   ],
   "source": [
    "print(type(input('Enter some value:')))"
   ]
  },
  {
   "cell_type": "code",
   "execution_count": 10,
   "id": "b0eb7009",
   "metadata": {},
   "outputs": [],
   "source": [
    "#5 question"
   ]
  },
  {
   "cell_type": "code",
   "execution_count": null,
   "id": "4197e56a",
   "metadata": {},
   "outputs": [],
   "source": [
    "a=['a','b','c','d']\n",
    "for i in a:\n",
    "    a.append(i.upper())\n",
    "print(a)"
   ]
  },
  {
   "cell_type": "code",
   "execution_count": 2,
   "id": "0ef33165",
   "metadata": {},
   "outputs": [],
   "source": [
    "#Memory Error "
   ]
  },
  {
   "cell_type": "code",
   "execution_count": 3,
   "id": "752df69b",
   "metadata": {},
   "outputs": [],
   "source": [
    "#6 question"
   ]
  },
  {
   "cell_type": "code",
   "execution_count": 6,
   "id": "48771556",
   "metadata": {},
   "outputs": [
    {
     "data": {
      "text/plain": [
       "'55'"
      ]
     },
     "execution_count": 6,
     "metadata": {},
     "output_type": "execute_result"
    }
   ],
   "source": [
    "a='5'\n",
    "b='2'\n",
    "a*2\n"
   ]
  },
  {
   "cell_type": "code",
   "execution_count": 7,
   "id": "97fa486a",
   "metadata": {},
   "outputs": [
    {
     "data": {
      "text/plain": [
       "'52'"
      ]
     },
     "execution_count": 7,
     "metadata": {},
     "output_type": "execute_result"
    }
   ],
   "source": [
    "a='5'\n",
    "b='2'\n",
    "a+b"
   ]
  },
  {
   "cell_type": "code",
   "execution_count": 10,
   "id": "e9df30b3",
   "metadata": {},
   "outputs": [
    {
     "name": "stdout",
     "output_type": "stream",
     "text": [
      "Enter some value:10\n",
      "<class 'int'>\n",
      "Enter some value:10.0\n",
      "<class 'float'>\n"
     ]
    }
   ],
   "source": [
    "#7 question\n",
    "print(type(eval(input('Enter some value:'))))\n",
    "print(type(eval(input('Enter some value:'))))"
   ]
  },
  {
   "cell_type": "code",
   "execution_count": 11,
   "id": "b99f1302",
   "metadata": {},
   "outputs": [
    {
     "data": {
      "text/plain": [
       "9"
      ]
     },
     "execution_count": 11,
     "metadata": {},
     "output_type": "execute_result"
    }
   ],
   "source": [
    "#8question\n",
    "a=7\n",
    "b=3\n",
    "c=5\n",
    "d=1\n",
    "a+d*2"
   ]
  },
  {
   "cell_type": "code",
   "execution_count": 15,
   "id": "a1c0d3fe",
   "metadata": {},
   "outputs": [
    {
     "name": "stdout",
     "output_type": "stream",
     "text": [
      "/Users/kartikeyvirkhare/opt/anaconda3/lib/python3.9/site-packages/ipykernel_launcher.py\n"
     ]
    }
   ],
   "source": [
    "#9th question\n",
    "from sys import argv\n",
    "print(argv[0])\n"
   ]
  },
  {
   "cell_type": "code",
   "execution_count": 1,
   "id": "98b7e301",
   "metadata": {},
   "outputs": [
    {
     "data": {
      "text/plain": [
       "9"
      ]
     },
     "execution_count": 1,
     "metadata": {},
     "output_type": "execute_result"
    }
   ],
   "source": [
    "#10thQuestion\n",
    "6//4%5+2**3-2//3"
   ]
  },
  {
   "cell_type": "code",
   "execution_count": 2,
   "id": "819fe985",
   "metadata": {},
   "outputs": [
    {
     "data": {
      "text/plain": [
       "'TT'"
      ]
     },
     "execution_count": 2,
     "metadata": {},
     "output_type": "execute_result"
    }
   ],
   "source": [
    "#11 Question\n",
    "x='TEXT'\n",
    "x[0]+x[-1]"
   ]
  },
  {
   "cell_type": "code",
   "execution_count": 3,
   "id": "d77f45d9",
   "metadata": {},
   "outputs": [
    {
     "name": "stdout",
     "output_type": "stream",
     "text": [
      "False\n",
      "True\n",
      "False\n"
     ]
    }
   ],
   "source": [
    "#12 Question\n",
    "print(10==10 and 20!=20)\n",
    "print(10==10 or 20!=20)\n",
    "print(not 10==10)"
   ]
  },
  {
   "cell_type": "code",
   "execution_count": 4,
   "id": "2ce31321",
   "metadata": {},
   "outputs": [
    {
     "data": {
      "text/plain": [
       "2"
      ]
     },
     "execution_count": 4,
     "metadata": {},
     "output_type": "execute_result"
    }
   ],
   "source": [
    "#13 question\n",
    "a=float('123.456')\n",
    "bool(a)+True"
   ]
  },
  {
   "cell_type": "code",
   "execution_count": null,
   "id": "fa918ddd",
   "metadata": {},
   "outputs": [],
   "source": [
    "#14 question\n",
    "distance=float(input('Enter the distance travelled in feet:'))\n",
    "diatnce_miles=distance/5280\n",
    "time=float(input('Enter the time elapsed in seconds:'))\n",
    "time_hours=time/3600\n",
    "velocity=distance_miles/time_hours\n",
    "print('The average Velocity:',velocity,'miles/hour')"
   ]
  },
  {
   "cell_type": "code",
   "execution_count": null,
   "id": "5cc1ca82",
   "metadata": {},
   "outputs": [],
   "source": [
    "#15 Question\n",
    "total_items=int(float(input('How many items you required?')))"
   ]
  },
  {
   "cell_type": "code",
   "execution_count": null,
   "id": "d68bb984",
   "metadata": {},
   "outputs": [],
   "source": [
    "#16 question\n",
    "print('r' in 'durga') #true\n",
    "print('is' in 'This IS a Fake News') #true"
   ]
  },
  {
   "cell_type": "code",
   "execution_count": 1,
   "id": "9d71e634",
   "metadata": {},
   "outputs": [
    {
     "name": "stdout",
     "output_type": "stream",
     "text": [
      "10\n"
     ]
    }
   ],
   "source": [
    "#17 Question\n",
    "x=2\n",
    "y=6\n",
    "x+=2**3\n",
    "x//=y//2//3\n",
    "print(x)"
   ]
  },
  {
   "cell_type": "code",
   "execution_count": 7,
   "id": "3eb3358b",
   "metadata": {},
   "outputs": [
    {
     "ename": "NameError",
     "evalue": "name 'pytest' is not defined",
     "output_type": "error",
     "traceback": [
      "\u001b[0;31m---------------------------------------------------------------------------\u001b[0m",
      "\u001b[0;31mNameError\u001b[0m                                 Traceback (most recent call last)",
      "Input \u001b[0;32mIn [7]\u001b[0m, in \u001b[0;36m<cell line: 2>\u001b[0;34m()\u001b[0m\n\u001b[1;32m      1\u001b[0m \u001b[38;5;66;03m#18 question\u001b[39;00m\n\u001b[0;32m----> 2\u001b[0m \u001b[43mpytest\u001b[49m\u001b[38;5;241m.\u001b[39mpyDurga\n\u001b[1;32m      3\u001b[0m \u001b[38;5;28;01mfrom\u001b[39;00m \u001b[38;5;21;01msys\u001b[39;00m \u001b[38;5;28;01mimport\u001b[39;00m argv\n\u001b[1;32m      4\u001b[0m \u001b[38;5;28mprint\u001b[39m(argv[\u001b[38;5;241m1\u001b[39m])\n",
      "\u001b[0;31mNameError\u001b[0m: name 'pytest' is not defined"
     ]
    }
   ],
   "source": [
    "#18 question\n",
    "py test.py Durga\n",
    "from sys import argv\n",
    "print(argv[1])\n",
    "## didnt understand the question and output"
   ]
  },
  {
   "cell_type": "code",
   "execution_count": 8,
   "id": "2558a2c0",
   "metadata": {},
   "outputs": [
    {
     "name": "stdout",
     "output_type": "stream",
     "text": [
      "Enter count value:12345\n",
      "12346\n"
     ]
    }
   ],
   "source": [
    "#19 Question\n",
    "count=int(input('Enter count value:'))\n",
    "print(count+1)"
   ]
  },
  {
   "cell_type": "code",
   "execution_count": 9,
   "id": "0b3bc760",
   "metadata": {},
   "outputs": [
    {
     "name": "stdout",
     "output_type": "stream",
     "text": [
      "Enter count value:12345\n",
      "12346\n"
     ]
    }
   ],
   "source": [
    "count=eval(input('Enter count value:'))\n",
    "print(count+1)"
   ]
  },
  {
   "cell_type": "code",
   "execution_count": 10,
   "id": "54665bf8",
   "metadata": {},
   "outputs": [
    {
     "name": "stdout",
     "output_type": "stream",
     "text": [
      "Enter count value:12345\n",
      "12346\n"
     ]
    }
   ],
   "source": [
    "count=input('Enter count value:')\n",
    "print(int(count)+1)"
   ]
  },
  {
   "cell_type": "code",
   "execution_count": 1,
   "id": "fdaa3f50",
   "metadata": {},
   "outputs": [],
   "source": [
    "#20 Question\n",
    "t=([10,20],10,False)\n",
    "x=type(t[0])---<class'list'"
   ]
  },
  {
   "cell_type": "code",
   "execution_count": 2,
   "id": "f4c7eb6d",
   "metadata": {},
   "outputs": [
    {
     "data": {
      "text/plain": [
       "2"
      ]
     },
     "execution_count": 2,
     "metadata": {},
     "output_type": "execute_result"
    }
   ],
   "source": [
    "#21 Question\n",
    "22%5"
   ]
  },
  {
   "cell_type": "code",
   "execution_count": 3,
   "id": "62666872",
   "metadata": {},
   "outputs": [
    {
     "name": "stdout",
     "output_type": "stream",
     "text": [
      "25.0\n"
     ]
    }
   ],
   "source": [
    "#22 Question\n",
    "x=3/3+3**3-3\n",
    "print(x)"
   ]
  },
  {
   "cell_type": "code",
   "execution_count": 4,
   "id": "6dc102ee",
   "metadata": {},
   "outputs": [
    {
     "name": "stdout",
     "output_type": "stream",
     "text": [
      "6.0\n"
     ]
    }
   ],
   "source": [
    "#23 question\n",
    "result=str(bool(1)+float(10)/float(2))\n",
    "print(result)"
   ]
  },
  {
   "cell_type": "code",
   "execution_count": 1,
   "id": "03e78556",
   "metadata": {},
   "outputs": [
    {
     "name": "stdout",
     "output_type": "stream",
     "text": [
      "-f/Users/kartikeyvirkhare/Library/Jupyter/runtime/kernel-12fc9415-d1ec-473a-845e-ecbfea466cc5.json\n"
     ]
    }
   ],
   "source": [
    "#24 question\n",
    "from sys import argv\n",
    "print (argv[1]+argv[2])"
   ]
  },
  {
   "cell_type": "code",
   "execution_count": 1,
   "id": "14e2b457",
   "metadata": {},
   "outputs": [
    {
     "name": "stdout",
     "output_type": "stream",
     "text": [
      "Enter Your Name:\n",
      "Kartikey\n",
      "Kartikey\n"
     ]
    }
   ],
   "source": [
    "#25 Question\n",
    "print('Enter Your Name:')\n",
    "name=input()\n",
    "print(name)"
   ]
  },
  {
   "cell_type": "code",
   "execution_count": 3,
   "id": "3c8eab82",
   "metadata": {},
   "outputs": [],
   "source": [
    "#26 Question Answer\n",
    "#True and False evaluates to False\n",
    "#True+1 evaluates to 2\n"
   ]
  },
  {
   "cell_type": "code",
   "execution_count": 4,
   "id": "f398bd74",
   "metadata": {},
   "outputs": [
    {
     "name": "stdout",
     "output_type": "stream",
     "text": [
      "True\n",
      "False\n",
      "True\n",
      "False\n",
      "True\n"
     ]
    }
   ],
   "source": [
    "#27 Question Answer\n",
    "print(not 0)\n",
    "print(not 10)\n",
    "print(not '')\n",
    "print(not 'durga')\n",
    "print(not None)"
   ]
  },
  {
   "cell_type": "code",
   "execution_count": 6,
   "id": "3e99271b",
   "metadata": {},
   "outputs": [
    {
     "name": "stdout",
     "output_type": "stream",
     "text": [
      "True\n",
      "False\n",
      "False\n",
      "False\n"
     ]
    }
   ],
   "source": [
    "#28 Question\n",
    "l1=['sunny','bunny','chinny','vinny']\n",
    "l2=['sunny','bunny','chinny','vinny']\n",
    "print(l1 is not l2)\n",
    "print(l1 !=l2)\n",
    "l1=l2\n",
    "print(l1 is not l2)\n",
    "print(l1!=l2)"
   ]
  },
  {
   "cell_type": "code",
   "execution_count": 7,
   "id": "dbec518c",
   "metadata": {},
   "outputs": [
    {
     "name": "stdout",
     "output_type": "stream",
     "text": [
      "<class 'int'>\n"
     ]
    }
   ],
   "source": [
    "#29 Question\n",
    "x=2**2**2\n",
    "print(type(x))"
   ]
  },
  {
   "cell_type": "code",
   "execution_count": 3,
   "id": "0a97fb59",
   "metadata": {},
   "outputs": [],
   "source": [
    "#30 quetstion\n",
    "s='DURGA SOFT'\n",
    "result= len(s.replace(' ','')) ##correct option\n"
   ]
  },
  {
   "cell_type": "code",
   "execution_count": 4,
   "id": "692b1b9b",
   "metadata": {},
   "outputs": [],
   "source": [
    "#31 Question skipped\n"
   ]
  },
  {
   "cell_type": "code",
   "execution_count": 5,
   "id": "5f32d945",
   "metadata": {},
   "outputs": [
    {
     "name": "stdout",
     "output_type": "stream",
     "text": [
      "AA\n"
     ]
    }
   ],
   "source": [
    "#32\n",
    "b=\"BANANA\"\n",
    "print(b[3]+b[5])"
   ]
  },
  {
   "cell_type": "code",
   "execution_count": 6,
   "id": "b5aaf628",
   "metadata": {},
   "outputs": [
    {
     "name": "stdout",
     "output_type": "stream",
     "text": [
      "AA\n"
     ]
    }
   ],
   "source": [
    "print(b[1]+b[5])"
   ]
  },
  {
   "cell_type": "code",
   "execution_count": 7,
   "id": "4d5f8a41",
   "metadata": {},
   "outputs": [
    {
     "name": "stdout",
     "output_type": "stream",
     "text": [
      "AA\n"
     ]
    }
   ],
   "source": [
    "print(b[1]+b[3])"
   ]
  },
  {
   "cell_type": "code",
   "execution_count": 8,
   "id": "2d55357c",
   "metadata": {},
   "outputs": [
    {
     "name": "stdout",
     "output_type": "stream",
     "text": [
      "False\n",
      "True\n",
      "True\n",
      "True\n"
     ]
    }
   ],
   "source": [
    "#33 question\n",
    "l1=['sunny','bunny','chinny','vinny']\n",
    "l2=['sunny','bunny','chinny','vinny']\n",
    "print(l1 is l2)\n",
    "print(l1 ==l2)\n",
    "l1=l2\n",
    "print(l1 is l2)\n",
    "print(l1==l2)"
   ]
  },
  {
   "cell_type": "code",
   "execution_count": 9,
   "id": "d412f7a1",
   "metadata": {},
   "outputs": [
    {
     "name": "stdout",
     "output_type": "stream",
     "text": [
      "0\n"
     ]
    }
   ],
   "source": [
    "#34 Question\n",
    "v1=1\n",
    "v2=0\n",
    "v1=v1^v2\n",
    "v2=v1^v2\n",
    "v1=v1^v2\n",
    "print(v1)"
   ]
  },
  {
   "cell_type": "code",
   "execution_count": 10,
   "id": "cb60bfb9",
   "metadata": {},
   "outputs": [
    {
     "name": "stdout",
     "output_type": "stream",
     "text": [
      "Enter the number of customers of the bank:15\n",
      "20\n"
     ]
    }
   ],
   "source": [
    "#35 question\n",
    "count=input('Enter the number of customers of the bank:')\n",
    "output=int(count)+5\n",
    "print(output)"
   ]
  },
  {
   "cell_type": "code",
   "execution_count": 11,
   "id": "025a85b7",
   "metadata": {},
   "outputs": [
    {
     "data": {
      "text/plain": [
       "'1020'"
      ]
     },
     "execution_count": 11,
     "metadata": {},
     "output_type": "execute_result"
    }
   ],
   "source": [
    "#36 Question\n",
    "x='10'\n",
    "y='20'\n",
    "x+y"
   ]
  },
  {
   "cell_type": "code",
   "execution_count": 12,
   "id": "1ff0bdbb",
   "metadata": {},
   "outputs": [
    {
     "data": {
      "text/plain": [
       "str"
      ]
     },
     "execution_count": 12,
     "metadata": {},
     "output_type": "execute_result"
    }
   ],
   "source": [
    "type(x+y)"
   ]
  },
  {
   "cell_type": "code",
   "execution_count": 14,
   "id": "0d6947fc",
   "metadata": {},
   "outputs": [],
   "source": [
    "#37 Question\n",
    "#didnt understand the question\n"
   ]
  },
  {
   "cell_type": "markdown",
   "id": "e6ee9fd6",
   "metadata": {},
   "source": []
  },
  {
   "cell_type": "code",
   "execution_count": 15,
   "id": "c9990381",
   "metadata": {},
   "outputs": [
    {
     "name": "stdout",
     "output_type": "stream",
     "text": [
      "False\n",
      "True\n"
     ]
    }
   ],
   "source": [
    "#38 Question\n",
    "lst=[7,8,9]\n",
    "b=lst[:]\n",
    "print(b is lst)\n",
    "print(b==lst)"
   ]
  },
  {
   "cell_type": "code",
   "execution_count": null,
   "id": "73ae1398",
   "metadata": {},
   "outputs": [],
   "source": [
    "#40 Question\n",
    "college_name=input('Enter Your College Name:')\n",
    "city=input('Enter Your City:')\n",
    "print('Welcome to {} in {}'.format(college_name,city))\n"
   ]
  },
  {
   "cell_type": "code",
   "execution_count": null,
   "id": "1f10e9f0",
   "metadata": {},
   "outputs": [],
   "source": []
  }
 ],
 "metadata": {
  "kernelspec": {
   "display_name": "Python 3 (ipykernel)",
   "language": "python",
   "name": "python3"
  },
  "language_info": {
   "codemirror_mode": {
    "name": "ipython",
    "version": 3
   },
   "file_extension": ".py",
   "mimetype": "text/x-python",
   "name": "python",
   "nbconvert_exporter": "python",
   "pygments_lexer": "ipython3",
   "version": "3.9.12"
  }
 },
 "nbformat": 4,
 "nbformat_minor": 5
}
